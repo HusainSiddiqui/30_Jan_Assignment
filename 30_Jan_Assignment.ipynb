{
 "cells": [
  {
   "cell_type": "markdown",
   "metadata": {},
   "source": [
    "Q1. WAP to accept % from the user and display the grade according to the following criteria:\n",
    "    >90            A\n",
    "    >80 and <=90   B\n",
    "    >=60 and <=80  C\n",
    "    below 60       D"
   ]
  },
  {
   "cell_type": "code",
   "execution_count": 1,
   "metadata": {},
   "outputs": [
    {
     "name": "stdout",
     "output_type": "stream",
     "text": [
      "Enter the Marks in %:555\n",
      "Enter Valid Marks \n"
     ]
    }
   ],
   "source": [
    "marks=float(input('Enter the Marks in %:'))\n",
    "\n",
    "if marks<=100:\n",
    "    if  marks >90:\n",
    "        print('A')\n",
    "    elif marks >80 and marks<=90:\n",
    "        print('B')\n",
    "    elif marks>=60 and marks<=80:\n",
    "        print('C')\n",
    "    elif marks>60:\n",
    "        print('D')\n",
    "else:\n",
    "    print('Enter Valid Marks ')\n",
    "    \n"
   ]
  },
  {
   "cell_type": "raw",
   "metadata": {},
   "source": [
    "Q2. WAP to accept the cost price of the bike and display the road TAX to bw paid according to the following criteria:\n",
    "    TAX     Cost Price\n",
    "    15%     100000\n",
    "    10%     >50000 and <m=100000\n",
    "    5%      <=50000"
   ]
  },
  {
   "cell_type": "code",
   "execution_count": 2,
   "metadata": {},
   "outputs": [
    {
     "name": "stdout",
     "output_type": "stream",
     "text": [
      "Enter the cost price:555\n",
      "27.75\n"
     ]
    }
   ],
   "source": [
    "cost_price=float(input('Enter the cost price:'))\n",
    "\n",
    "if cost_price>0:\n",
    "    \n",
    "    if  cost_price >100000:\n",
    "        print((cost_price*15)/100)\n",
    "        \n",
    "    elif cost_price >50000 and cost_price<=100000:\n",
    "        print((cost_price*10)/100)\n",
    "\n",
    "    elif cost_price<=50000:\n",
    "        print((cost_price*5)/100)\n",
    "        \n",
    "else:\n",
    "    print('Enter Valid cost price ')"
   ]
  },
  {
   "cell_type": "raw",
   "metadata": {},
   "source": [
    "Q3.WAP to accept any city from the user and display monuments of that city\n",
    "City    Monumemnt\n",
    "Delhi   Red Fort\n",
    "Agra    Taj Mahal\n",
    "Jaipur  Jal Mahal"
   ]
  },
  {
   "cell_type": "code",
   "execution_count": 3,
   "metadata": {},
   "outputs": [
    {
     "name": "stdout",
     "output_type": "stream",
     "text": [
      "Enter the city name:555\n",
      "Enter correct city name!\n"
     ]
    }
   ],
   "source": [
    "city_monument={'Delhi':'Red Fort','Agra':'Taj Mahal','Jaipur':'Jal Mahal'}\n",
    "city=input('Enter the city name:')\n",
    "\n",
    "if city.isalpha():\n",
    "    \n",
    "    if city.title() in city_monument.keys():\n",
    "        print(city_monument[city.title()])\n",
    "    else:\n",
    "        print('Enter correct city name')    \n",
    "        \n",
    "else:\n",
    "    print('Enter correct city name!')"
   ]
  },
  {
   "cell_type": "markdown",
   "metadata": {},
   "source": [
    "Q4.Check how many times a given number can be divided by 3 before it is less than or equal to 10"
   ]
  },
  {
   "cell_type": "code",
   "execution_count": 4,
   "metadata": {},
   "outputs": [
    {
     "name": "stdout",
     "output_type": "stream",
     "text": [
      "Enter number:555\n",
      "4\n"
     ]
    }
   ],
   "source": [
    "number=int(input('Enter number:'))\n",
    "count=0\n",
    "while number>=10:\n",
    "    number=number/3\n",
    "    count=count+1\n",
    "print(count)"
   ]
  },
  {
   "cell_type": "markdown",
   "metadata": {},
   "source": [
    "Q5. Why and When to use while loop in Python give a detailed description with example.\n",
    "\n",
    "Python While Loop is used to execute a block of statements repeatedly until a given condition is satisfied. \n",
    "And when the condition becomes false, the line immediately after the loop in the program is executed.\n",
    "\n",
    "Example:"
   ]
  },
  {
   "cell_type": "code",
   "execution_count": 5,
   "metadata": {},
   "outputs": [
    {
     "name": "stdout",
     "output_type": "stream",
     "text": [
      "Enter number:5555\n",
      "6\n"
     ]
    }
   ],
   "source": [
    "number=int(input('Enter number:'))\n",
    "count=0\n",
    "while number>=10:\n",
    "    number=number/3\n",
    "    count=count+1\n",
    "print(count) "
   ]
  },
  {
   "cell_type": "markdown",
   "metadata": {},
   "source": [
    "Q6. Use nested while loop to print 3 diffrent pattern"
   ]
  },
  {
   "cell_type": "code",
   "execution_count": 6,
   "metadata": {},
   "outputs": [
    {
     "name": "stdout",
     "output_type": "stream",
     "text": [
      "*\n",
      "**\n",
      "***\n",
      "****\n",
      "*****\n",
      "******\n",
      "      \n",
      "     *\n",
      "    **\n",
      "   ***\n",
      "  ****\n",
      " *****\n",
      "      \n",
      "     **\n",
      "    ****\n",
      "   ******\n",
      "  ********\n",
      " **********\n"
     ]
    }
   ],
   "source": [
    "row,col=0,0\n",
    "\n",
    "while row <=5:\n",
    "    while col<=row:\n",
    "        print('*',end='')\n",
    "        col=col+1\n",
    "    print('')\n",
    "    col=0\n",
    "    row=row+1\n",
    "\n",
    "row,col=0,5\n",
    "\n",
    "while row <=5:\n",
    "    while row<=col:\n",
    "        print(' ',end='')\n",
    "        col=col-1\n",
    "    print('*'*row)\n",
    "    col=5\n",
    "    row=row+1\n",
    "    \n",
    "row,col=0,5\n",
    "\n",
    "while row <=5:\n",
    "    while row<=col:\n",
    "        print(' ',end='')\n",
    "        col=col-1\n",
    "    print('*'*row*2)\n",
    "    col=5\n",
    "    row=row+1"
   ]
  },
  {
   "cell_type": "markdown",
   "metadata": {},
   "source": [
    "Q7. Reverse a while loop to display number from 10 to 1"
   ]
  },
  {
   "cell_type": "code",
   "execution_count": 7,
   "metadata": {},
   "outputs": [
    {
     "name": "stdout",
     "output_type": "stream",
     "text": [
      "10\n",
      "9\n",
      "8\n",
      "7\n",
      "6\n",
      "5\n",
      "4\n",
      "3\n",
      "2\n",
      "1\n"
     ]
    }
   ],
   "source": [
    "n=10\n",
    "while n>=1:\n",
    "    print(n)\n",
    "    n=n-1"
   ]
  }
 ],
 "metadata": {
  "kernelspec": {
   "display_name": "Python 3",
   "language": "python",
   "name": "python3"
  },
  "language_info": {
   "codemirror_mode": {
    "name": "ipython",
    "version": 3
   },
   "file_extension": ".py",
   "mimetype": "text/x-python",
   "name": "python",
   "nbconvert_exporter": "python",
   "pygments_lexer": "ipython3",
   "version": "3.6.5"
  }
 },
 "nbformat": 4,
 "nbformat_minor": 2
}
